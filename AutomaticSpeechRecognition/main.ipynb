{
 "cells": [
  {
   "cell_type": "markdown",
   "metadata": {},
   "source": [
    "# Automatic Speech Recognition (ASR)"
   ]
  },
  {
   "cell_type": "markdown",
   "metadata": {},
   "source": [
    "## Theoritical Aspect"
   ]
  },
  {
   "cell_type": "markdown",
   "metadata": {},
   "source": [
    "### References: \n",
    "- [Nvidia Developers Blog: Guide to ASR Technology](https://developer.nvidia.com/blog/essential-guide-to-automatic-speech-recognition-technology/)"
   ]
  },
  {
   "cell_type": "markdown",
   "metadata": {},
   "source": [
    "###\n",
    "Speech recognition technology is capable of converting spoken language (an audio signal) into written text that is often used as a command.\n",
    "\n",
    "ASR is commonly seen in user facing applications such as: Virtual Agents, Live captions etc.\n",
    "\n",
    "Natural Language Processing (NLP) is core in ASR pipeline, aside from being applied in Language model, it is also used to augment generated transcipts with puntuation and capitalization at the end of ASR pipeline.\n",
    "\n",
    "Once the transcript is post-processed with NLP, The text is then used for downstram Language modelling task:\n",
    "- Sentiment Analysis\n",
    "- Text Analytics\n",
    "- Text Summarization\n",
    "- Question Answering"
   ]
  },
  {
   "cell_type": "markdown",
   "metadata": {},
   "source": [
    "## Implementation"
   ]
  }
 ],
 "metadata": {
  "kernelspec": {
   "display_name": ".linux-env",
   "language": "python",
   "name": "python3"
  },
  "language_info": {
   "name": "python",
   "version": "3.12.4"
  }
 },
 "nbformat": 4,
 "nbformat_minor": 2
}
